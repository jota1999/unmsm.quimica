{
  "nbformat": 4,
  "nbformat_minor": 0,
  "metadata": {
    "colab": {
      "provenance": [],
      "authorship_tag": "ABX9TyNMMtVrxhLG0zj7tis5UbXx",
      "include_colab_link": true
    },
    "kernelspec": {
      "name": "python3",
      "display_name": "Python 3"
    },
    "language_info": {
      "name": "python"
    }
  },
  "cells": [
    {
      "cell_type": "markdown",
      "metadata": {
        "id": "view-in-github",
        "colab_type": "text"
      },
      "source": [
        "<a href=\"https://colab.research.google.com/github/jota1999/unmsm.quimica/blob/main/ELECTROQUIMICA_PARTE_2.ipynb\" target=\"_parent\"><img src=\"https://colab.research.google.com/assets/colab-badge.svg\" alt=\"Open In Colab\"/></a>"
      ]
    },
    {
      "cell_type": "code",
      "execution_count": 4,
      "metadata": {
        "id": "UydNCm7TZBd9"
      },
      "outputs": [],
      "source": [
        "V_oxigenada = 1\n",
        "V_final = 20\n",
        "C_permanganato = 0.01"
      ]
    },
    {
      "cell_type": "code",
      "source": [
        "# Volumen de permanganato usado en la valoración\n",
        "V_permanganato = 15  # Volumen de permanganato en mL"
      ],
      "metadata": {
        "id": "MLFgmH99ZeoB"
      },
      "execution_count": 5,
      "outputs": []
    },
    {
      "cell_type": "code",
      "source": [
        "# Calculando la cantidad de moles de permanganato de potasio\n",
        "moles_permanganato = C_permanganato * V_permanganato / 1000  # Convertir a litros"
      ],
      "metadata": {
        "id": "6Tc-g86vZgxN"
      },
      "execution_count": 6,
      "outputs": []
    },
    {
      "cell_type": "code",
      "source": [
        "# Relación entre los moles de permanganato y agua oxigenada es 2:5\n",
        "moles_oxigenada = (moles_permanganato * 5) / 2"
      ],
      "metadata": {
        "id": "IfDhqVAzZi9I"
      },
      "execution_count": 7,
      "outputs": []
    },
    {
      "cell_type": "code",
      "source": [
        "# Calculando la concentración de la disolución de agua oxigenada\n",
        "C_oxigenada = moles_oxigenada / (V_oxigenada / 1000)  # Convertir a litros"
      ],
      "metadata": {
        "id": "sl8wclUaZnBr"
      },
      "execution_count": 8,
      "outputs": []
    },
    {
      "cell_type": "code",
      "source": [
        "# Imprimir la concentración de la disolución de agua oxigenada\n",
        "print(f\"La concentración de la disolución de agua oxigenada es: {C_oxigenada:.4f} M\")"
      ],
      "metadata": {
        "colab": {
          "base_uri": "https://localhost:8080/"
        },
        "id": "qib90tWzZoqS",
        "outputId": "5baf8e1c-de10-43b9-9398-f2441c1f075f"
      },
      "execution_count": 9,
      "outputs": [
        {
          "output_type": "stream",
          "name": "stdout",
          "text": [
            "La concentración de la disolución de agua oxigenada es: 0.3750 M\n"
          ]
        }
      ]
    }
  ]
}