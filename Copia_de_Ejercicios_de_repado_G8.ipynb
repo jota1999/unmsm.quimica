{
  "nbformat": 4,
  "nbformat_minor": 0,
  "metadata": {
    "colab": {
      "provenance": [],
      "include_colab_link": true
    },
    "kernelspec": {
      "name": "python3",
      "display_name": "Python 3"
    },
    "language_info": {
      "name": "python"
    }
  },
  "cells": [
    {
      "cell_type": "markdown",
      "metadata": {
        "id": "view-in-github",
        "colab_type": "text"
      },
      "source": [
        "<a href=\"https://colab.research.google.com/github/jota1999/unmsm.quimica/blob/main/Copia_de_Ejercicios_de_repado_G8.ipynb\" target=\"_parent\"><img src=\"https://colab.research.google.com/assets/colab-badge.svg\" alt=\"Open In Colab\"/></a>"
      ]
    },
    {
      "cell_type": "markdown",
      "source": [
        "# 1. Crea una lista de 10 números e imprime los valores negativos en otra lista"
      ],
      "metadata": {
        "id": "_iQKUUQI7NYI"
      }
    },
    {
      "cell_type": "code",
      "source": [
        "import numpy as np"
      ],
      "metadata": {
        "id": "0i7m1hIEfysp"
      },
      "execution_count": null,
      "outputs": []
    },
    {
      "cell_type": "code",
      "source": [
        "numeros = np.random.randint(1,20,size=10)"
      ],
      "metadata": {
        "id": "nXkzd32sa4Vc"
      },
      "execution_count": null,
      "outputs": []
    },
    {
      "cell_type": "code",
      "source": [
        "numeros\n"
      ],
      "metadata": {
        "colab": {
          "base_uri": "https://localhost:8080/"
        },
        "id": "oiKrzxWxf4as",
        "outputId": "882e09b1-1267-4f90-c38b-890bc6a64483"
      },
      "execution_count": null,
      "outputs": [
        {
          "output_type": "execute_result",
          "data": {
            "text/plain": [
              "array([10,  1, 19, 16, 19, 14, 12,  7, 14, 13])"
            ]
          },
          "metadata": {},
          "execution_count": 9
        }
      ]
    },
    {
      "cell_type": "code",
      "source": [
        "len(numeros)"
      ],
      "metadata": {
        "colab": {
          "base_uri": "https://localhost:8080/"
        },
        "id": "MsZE2NjogYfw",
        "outputId": "ff0cd075-08a2-4e23-f7f5-549a01a89a0f"
      },
      "execution_count": null,
      "outputs": [
        {
          "output_type": "execute_result",
          "data": {
            "text/plain": [
              "10"
            ]
          },
          "metadata": {},
          "execution_count": 10
        }
      ]
    },
    {
      "cell_type": "code",
      "source": [
        "# [lo que quiero | como lo voy a generar]\n",
        "\n",
        "[x*-1 for x in numeros]"
      ],
      "metadata": {
        "colab": {
          "base_uri": "https://localhost:8080/"
        },
        "id": "41yCwMnQmlih",
        "outputId": "9ea745f4-c03b-44b4-a79a-e24d0f6a1009"
      },
      "execution_count": null,
      "outputs": [
        {
          "output_type": "execute_result",
          "data": {
            "text/plain": [
              "[-10, -1, -19, -16, -19, -14, -12, -7, -14, -13]"
            ]
          },
          "metadata": {},
          "execution_count": 12
        }
      ]
    },
    {
      "cell_type": "markdown",
      "source": [
        "# 2. Escribe una matriz de 3x3 con números float distintos"
      ],
      "metadata": {
        "id": "g-4ebg569duT"
      }
    },
    {
      "cell_type": "code",
      "source": [
        "numeros = [[2.0,8.11,3.3],\n",
        "           [3.4,2.55,9.1],\n",
        "           [1.2,8.30,0.5]]"
      ],
      "metadata": {
        "id": "xpGsqtQbju9V"
      },
      "execution_count": null,
      "outputs": []
    },
    {
      "cell_type": "code",
      "source": [
        "type([[2.0,8.11,3.3],[3,2,9],[1,8,0]])"
      ],
      "metadata": {
        "colab": {
          "base_uri": "https://localhost:8080/"
        },
        "id": "c_zzxwWkm0LY",
        "outputId": "2dc29fe7-3932-4568-a787-2d88024f0e49"
      },
      "execution_count": null,
      "outputs": [
        {
          "output_type": "execute_result",
          "data": {
            "text/plain": [
              "list"
            ]
          },
          "metadata": {},
          "execution_count": 14
        }
      ]
    },
    {
      "cell_type": "code",
      "source": [
        "np.random.random_sample((3,3))"
      ],
      "metadata": {
        "colab": {
          "base_uri": "https://localhost:8080/"
        },
        "id": "KnlC3fv8m21D",
        "outputId": "197de44e-8061-48c3-cca7-30e607710155"
      },
      "execution_count": null,
      "outputs": [
        {
          "output_type": "execute_result",
          "data": {
            "text/plain": [
              "array([[0.14019967, 0.45538522, 0.73000333],\n",
              "       [0.869813  , 0.90712845, 0.01103685],\n",
              "       [0.14967256, 0.38847742, 0.24784479]])"
            ]
          },
          "metadata": {},
          "execution_count": 15
        }
      ]
    },
    {
      "cell_type": "markdown",
      "source": [
        "# 3. Crea una matriz A de 3x3 y 2 matrices (B y C) de 3x1 con números enteros distintos y calcula AxB+C"
      ],
      "metadata": {
        "id": "OpfO_Yz1B4kC"
      }
    },
    {
      "cell_type": "code",
      "source": [
        "A = np.random.random_sample((3,3))\n",
        "B = np.random.random_sample((3,1))\n",
        "C = np.random.random_sample((3,1))"
      ],
      "metadata": {
        "id": "M3KsgaYClVlb"
      },
      "execution_count": null,
      "outputs": []
    },
    {
      "cell_type": "code",
      "source": [
        "A.shape, B.shape, C.shape"
      ],
      "metadata": {
        "colab": {
          "base_uri": "https://localhost:8080/"
        },
        "id": "X5bMSi2Knvk4",
        "outputId": "dc2fb695-686c-40fb-abaa-c214aac3aec9"
      },
      "execution_count": null,
      "outputs": [
        {
          "output_type": "execute_result",
          "data": {
            "text/plain": [
              "((3, 3), (3, 1), (3, 1))"
            ]
          },
          "metadata": {},
          "execution_count": 17
        }
      ]
    },
    {
      "cell_type": "code",
      "source": [
        "A*B"
      ],
      "metadata": {
        "colab": {
          "base_uri": "https://localhost:8080/"
        },
        "id": "dfnyeKyqnxXu",
        "outputId": "caec94ba-04fc-47bb-8193-4dcc769e0efc"
      },
      "execution_count": null,
      "outputs": [
        {
          "output_type": "execute_result",
          "data": {
            "text/plain": [
              "array([[0.15322867, 0.41114414, 0.12372863],\n",
              "       [0.01703064, 0.01312283, 0.00435047],\n",
              "       [0.49928095, 0.53121137, 0.01102366]])"
            ]
          },
          "metadata": {},
          "execution_count": 19
        }
      ]
    },
    {
      "cell_type": "code",
      "source": [
        "A*B+C"
      ],
      "metadata": {
        "colab": {
          "base_uri": "https://localhost:8080/"
        },
        "id": "uO5SDIbTnxcJ",
        "outputId": "5041c468-4d6c-4113-dd35-22ea1b8b3fb2"
      },
      "execution_count": null,
      "outputs": [
        {
          "output_type": "execute_result",
          "data": {
            "text/plain": [
              "array([[0.40460552, 0.66252099, 0.37510548],\n",
              "       [0.1932795 , 0.18937169, 0.18059933],\n",
              "       [1.4755625 , 1.50749292, 0.98730522]])"
            ]
          },
          "metadata": {},
          "execution_count": 18
        }
      ]
    },
    {
      "cell_type": "code",
      "source": [
        "A"
      ],
      "metadata": {
        "colab": {
          "base_uri": "https://localhost:8080/"
        },
        "id": "xQj88nQJn3EQ",
        "outputId": "eff2d3e6-a7d7-4283-da6f-43b645634b10"
      },
      "execution_count": null,
      "outputs": [
        {
          "output_type": "execute_result",
          "data": {
            "text/plain": [
              "array([[0.36406803, 0.97686964, 0.29397656],\n",
              "       [0.75435337, 0.58126122, 0.19269944],\n",
              "       [0.69473631, 0.73916665, 0.01533914]])"
            ]
          },
          "metadata": {},
          "execution_count": 20
        }
      ]
    },
    {
      "cell_type": "code",
      "source": [
        "B\n"
      ],
      "metadata": {
        "colab": {
          "base_uri": "https://localhost:8080/"
        },
        "id": "fVGlm7Ggn38y",
        "outputId": "968f124c-3c62-4ad7-de84-42873e830d74"
      },
      "execution_count": null,
      "outputs": [
        {
          "output_type": "execute_result",
          "data": {
            "text/plain": [
              "array([[0.42087923],\n",
              "       [0.02257647],\n",
              "       [0.71866253]])"
            ]
          },
          "metadata": {},
          "execution_count": 21
        }
      ]
    },
    {
      "cell_type": "code",
      "source": [
        "C\n"
      ],
      "metadata": {
        "colab": {
          "base_uri": "https://localhost:8080/"
        },
        "id": "1GBKkjiPn5dY",
        "outputId": "272b34d0-de8f-48a3-d477-9c731e27f5ac"
      },
      "execution_count": null,
      "outputs": [
        {
          "output_type": "execute_result",
          "data": {
            "text/plain": [
              "array([[0.25137685],\n",
              "       [0.17624886],\n",
              "       [0.97628155]])"
            ]
          },
          "metadata": {},
          "execution_count": 22
        }
      ]
    },
    {
      "cell_type": "markdown",
      "source": [
        "# 4. Disponer de números enteros desde el 1 hasta el 100 y cambiar los múltiplos de 3 por el string “m3”"
      ],
      "metadata": {
        "id": "O3zelPWUGdBI"
      }
    },
    {
      "cell_type": "code",
      "source": [
        "np.linspace(0,100,100)"
      ],
      "metadata": {
        "id": "31TMAQr-qIke"
      },
      "execution_count": null,
      "outputs": []
    },
    {
      "cell_type": "code",
      "source": [
        "mi_arreglo = np.arange(1,101)\n",
        "mi_arreglo"
      ],
      "metadata": {
        "colab": {
          "base_uri": "https://localhost:8080/"
        },
        "id": "HnJm55eQqKSP",
        "outputId": "676dc896-2dd3-4260-b6e4-8e2a19ef3d9a"
      },
      "execution_count": null,
      "outputs": [
        {
          "output_type": "execute_result",
          "data": {
            "text/plain": [
              "array([  1,   2,   3,   4,   5,   6,   7,   8,   9,  10,  11,  12,  13,\n",
              "        14,  15,  16,  17,  18,  19,  20,  21,  22,  23,  24,  25,  26,\n",
              "        27,  28,  29,  30,  31,  32,  33,  34,  35,  36,  37,  38,  39,\n",
              "        40,  41,  42,  43,  44,  45,  46,  47,  48,  49,  50,  51,  52,\n",
              "        53,  54,  55,  56,  57,  58,  59,  60,  61,  62,  63,  64,  65,\n",
              "        66,  67,  68,  69,  70,  71,  72,  73,  74,  75,  76,  77,  78,\n",
              "        79,  80,  81,  82,  83,  84,  85,  86,  87,  88,  89,  90,  91,\n",
              "        92,  93,  94,  95,  96,  97,  98,  99, 100])"
            ]
          },
          "metadata": {},
          "execution_count": 24
        }
      ]
    },
    {
      "cell_type": "code",
      "source": [
        "len(mi_arreglo)"
      ],
      "metadata": {
        "colab": {
          "base_uri": "https://localhost:8080/"
        },
        "id": "FWa8XUCWqOos",
        "outputId": "b52399c8-a4ba-465f-935d-b6e7da5f307a"
      },
      "execution_count": null,
      "outputs": [
        {
          "output_type": "execute_result",
          "data": {
            "text/plain": [
              "100"
            ]
          },
          "metadata": {},
          "execution_count": 25
        }
      ]
    },
    {
      "cell_type": "code",
      "source": [
        "mi_arreglo%3"
      ],
      "metadata": {
        "colab": {
          "base_uri": "https://localhost:8080/"
        },
        "id": "L5wzK9WoqYEC",
        "outputId": "d858e566-f710-4413-fb09-5d246557b784"
      },
      "execution_count": null,
      "outputs": [
        {
          "output_type": "execute_result",
          "data": {
            "text/plain": [
              "array([1, 2, 0, 1, 2, 0, 1, 2, 0, 1, 2, 0, 1, 2, 0, 1, 2, 0, 1, 2, 0, 1,\n",
              "       2, 0, 1, 2, 0, 1, 2, 0, 1, 2, 0, 1, 2, 0, 1, 2, 0, 1, 2, 0, 1, 2,\n",
              "       0, 1, 2, 0, 1, 2, 0, 1, 2, 0, 1, 2, 0, 1, 2, 0, 1, 2, 0, 1, 2, 0,\n",
              "       1, 2, 0, 1, 2, 0, 1, 2, 0, 1, 2, 0, 1, 2, 0, 1, 2, 0, 1, 2, 0, 1,\n",
              "       2, 0, 1, 2, 0, 1, 2, 0, 1, 2, 0, 1])"
            ]
          },
          "metadata": {},
          "execution_count": 26
        }
      ]
    },
    {
      "cell_type": "code",
      "source": [
        "# llamar algún elemento\n",
        "mi_arreglo[12]"
      ],
      "metadata": {
        "colab": {
          "base_uri": "https://localhost:8080/"
        },
        "id": "rfFlZ1mGqa03",
        "outputId": "48bd6b8e-bf40-4e2f-b65f-a6227ca3def0"
      },
      "execution_count": null,
      "outputs": [
        {
          "output_type": "execute_result",
          "data": {
            "text/plain": [
              "13"
            ]
          },
          "metadata": {},
          "execution_count": 29
        }
      ]
    },
    {
      "cell_type": "code",
      "source": [
        "if mi_arreglo[5]%3==0:\n",
        "  print('sí, es múltiplo de 3')\n",
        "else:\n",
        "  print('no, no es múltiplo de 3')"
      ],
      "metadata": {
        "colab": {
          "base_uri": "https://localhost:8080/"
        },
        "id": "FqrPCAuNqekw",
        "outputId": "d9bd6cef-14bf-43e0-e772-1268345041ba"
      },
      "execution_count": null,
      "outputs": [
        {
          "output_type": "stream",
          "name": "stdout",
          "text": [
            "sí, es múltiplo de 3\n"
          ]
        }
      ]
    },
    {
      "cell_type": "code",
      "source": [
        "# uso de \"append\"\n",
        "lista_valores = []\n",
        "\n",
        "for valor in mi_arreglo:\n",
        "  if mi_arreglo[valor-1]%3==0:\n",
        "    lista_valores.append(valor)"
      ],
      "metadata": {
        "id": "LRSmp7QOsX8L"
      },
      "execution_count": null,
      "outputs": []
    },
    {
      "cell_type": "code",
      "source": [
        "lista_valores = []\n",
        "\n",
        "for valor in mi_arreglo:\n",
        "  if mi_arreglo[valor-1]%3==0:\n",
        "    lista_valores.append(\"m3\")\n",
        "  else:\n",
        "    lista_valores.append(valor)"
      ],
      "metadata": {
        "id": "aMRsSsdPsaGK"
      },
      "execution_count": null,
      "outputs": []
    },
    {
      "cell_type": "code",
      "source": [
        "lista_valores\n"
      ],
      "metadata": {
        "id": "yQYD8PFMsgkG"
      },
      "execution_count": null,
      "outputs": []
    },
    {
      "cell_type": "code",
      "source": [
        "[\"m3\" if i%3==0 else i for i in range(1,101)]"
      ],
      "metadata": {
        "id": "L3gN1tUAsphM"
      },
      "execution_count": null,
      "outputs": []
    },
    {
      "cell_type": "markdown",
      "source": [
        "# 5. Recorriendo la matriz A del ejercicio 3, calcular la traza de la matriz transpuesta"
      ],
      "metadata": {
        "id": "vrWo89ffGqu9"
      }
    },
    {
      "cell_type": "code",
      "source": [],
      "metadata": {
        "id": "HJf1XCKbvNK9"
      },
      "execution_count": null,
      "outputs": []
    },
    {
      "cell_type": "markdown",
      "source": [
        "# 6. Encuentra un autovalor y su autovector, para la matriz D. Puedes ayudarte multiplicando D con las matrices de 2x1 E, F y G\n",
        "\n",
        "Si:\n",
        "\n",
        "D = np.array([[3, 2], [1, 4]])\n",
        "\n",
        "E = np.array([[1,0]])\n",
        "\n",
        "F = np.array([[0,1]])\n",
        "\n",
        "G = np.array([[1,1]])"
      ],
      "metadata": {
        "id": "jWHAAPUfGrN1"
      }
    },
    {
      "cell_type": "code",
      "source": [],
      "metadata": {
        "id": "cQ7YeodGvMVb"
      },
      "execution_count": null,
      "outputs": []
    }
  ]
}